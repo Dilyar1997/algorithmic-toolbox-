{
 "cells": [
  {
   "cell_type": "code",
   "execution_count": 37,
   "metadata": {},
   "outputs": [
    {
     "data": {
      "text/plain": [
       "22"
      ]
     },
     "execution_count": 37,
     "metadata": {},
     "output_type": "execute_result"
    }
   ],
   "source": [
    "p = [0,1,5,8,9,10,17,17,20,24,30]\n",
    "def cut_rod(p,n):\n",
    "    if n == 0:\n",
    "        return 0\n",
    "    q = 0\n",
    "    for i in range(1,n):\n",
    "        q = max(q,p[i] + cut_rod(p, n-i))\n",
    "    return q\n",
    "cut_rod(p,9)"
   ]
  },
  {
   "cell_type": "code",
   "execution_count": 38,
   "metadata": {},
   "outputs": [
    {
     "data": {
      "text/plain": [
       "[0, 1, 2, 3, 4, 5, 6, 7, 8, 9, 10]"
      ]
     },
     "execution_count": 38,
     "metadata": {},
     "output_type": "execute_result"
    }
   ],
   "source": [
    "4 > float('inf')\n",
    "list(range(11))"
   ]
  },
  {
   "cell_type": "code",
   "execution_count": 39,
   "metadata": {},
   "outputs": [
    {
     "data": {
      "text/plain": [
       "10"
      ]
     },
     "execution_count": 39,
     "metadata": {},
     "output_type": "execute_result"
    }
   ],
   "source": [
    "def memoized_cut_rod(p,n):\n",
    "    r = []\n",
    "    for i in range(n+1):\n",
    "        r.append(-float('inf'))\n",
    "    return memoized_cut_rod_aux(p,n,r)\n",
    "\n",
    "def memoized_cut_rod_aux(p,n,r):\n",
    "    if r[n] >= 0:\n",
    "        return r[n]\n",
    "    if n == 0:\n",
    "        q = 0\n",
    "    else:\n",
    "        q = -float('inf')\n",
    "        for i in range(1,n+1):\n",
    "            q = max(q, p[i] + memoized_cut_rod_aux(p,n-i,r))\n",
    "    r[n] = q\n",
    "    return q\n",
    "memoized_cut_rod(p, 4)\n",
    "    "
   ]
  },
  {
   "cell_type": "code",
   "execution_count": null,
   "metadata": {},
   "outputs": [],
   "source": []
  }
 ],
 "metadata": {
  "kernelspec": {
   "display_name": "Python 3",
   "language": "python",
   "name": "python3"
  },
  "language_info": {
   "codemirror_mode": {
    "name": "ipython",
    "version": 3
   },
   "file_extension": ".py",
   "mimetype": "text/x-python",
   "name": "python",
   "nbconvert_exporter": "python",
   "pygments_lexer": "ipython3",
   "version": "3.6.8"
  }
 },
 "nbformat": 4,
 "nbformat_minor": 2
}
