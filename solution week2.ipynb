{
 "cells": [
  {
   "cell_type": "code",
   "execution_count": 7,
   "metadata": {},
   "outputs": [
    {
     "data": {
      "text/plain": [
       "1"
      ]
     },
     "execution_count": 7,
     "metadata": {},
     "output_type": "execute_result"
    }
   ],
   "source": [
    "import time \n",
    "def fibonacci(n):\n",
    "    if n <= 1:\n",
    "        return n\n",
    "\n",
    "    previous = 0\n",
    "    current  = 1\n",
    "\n",
    "    for _ in range(n - 1):\n",
    "        previous, current = current, previous + current\n",
    "\n",
    "    return current \n",
    "# start = time.time()\n",
    "# get_fibonacci_last_digit_naive(1000001)\n",
    "# end = time.time()\n",
    "# print(end-start)\n",
    "fibonacci(2015) % 3"
   ]
  },
  {
   "cell_type": "code",
   "execution_count": 3,
   "metadata": {},
   "outputs": [
    {
     "name": "stdout",
     "output_type": "stream",
     "text": [
      "0.08124494552612305\n"
     ]
    }
   ],
   "source": [
    "def fibn(n):\n",
    "    if n <= 1:\n",
    "        return n\n",
    "\n",
    "    previous = 0\n",
    "    current  = 1\n",
    "\n",
    "    for _ in range(n - 1):\n",
    "        x = previous  + current \n",
    "        previous, current = current % 10, x % 10\n",
    "        \n",
    "    return current\n",
    "start = time.time()\n",
    "fibn(1000001)\n",
    "end = time.time()\n",
    "print(end-start)"
   ]
  },
  {
   "cell_type": "code",
   "execution_count": null,
   "metadata": {},
   "outputs": [],
   "source": [
    "def gcd_naive(a, b):\n",
    "    current_gcd = 1\n",
    "    for d in range(2, min(a, b) + 1):\n",
    "        if a % d == 0 and b % d == 0:\n",
    "            if d > current_gcd:\n",
    "                current_gcd = d\n",
    "\n",
    "    return current_gcd\n",
    "# gcd_naive(12242343450, 23461232213)"
   ]
  },
  {
   "cell_type": "code",
   "execution_count": 1,
   "metadata": {},
   "outputs": [
    {
     "data": {
      "text/plain": [
       "3"
      ]
     },
     "execution_count": 1,
     "metadata": {},
     "output_type": "execute_result"
    }
   ],
   "source": [
    "def gcd_fast(a,b):\n",
    "    if b == 0:\n",
    "        return a\n",
    "    r = a % b\n",
    "    return( gcd_fast(b,r))\n",
    "gcd_fast(9, 12)"
   ]
  },
  {
   "cell_type": "code",
   "execution_count": 4,
   "metadata": {},
   "outputs": [
    {
     "name": "stdout",
     "output_type": "stream",
     "text": [
      "2.066608428955078\n"
     ]
    }
   ],
   "source": [
    "import time \n",
    "def lcm_naive(a, b):\n",
    "    for l in range(1, a*b + 1):\n",
    "        if l % a == 0 and l % b == 0:\n",
    "            return l\n",
    "\n",
    "    return a*b\n",
    "lcm_naive(9,12)\n",
    "start = time.time()\n",
    "lcm_naive(7614, 6145)\n",
    "end = time.time()\n",
    "print(end-start)"
   ]
  },
  {
   "cell_type": "code",
   "execution_count": 5,
   "metadata": {},
   "outputs": [
    {
     "name": "stdout",
     "output_type": "stream",
     "text": [
      "2.6226043701171875e-05\n"
     ]
    }
   ],
   "source": [
    "def lcm_fast(a,b):\n",
    "    gcd = gcd_fast(a,b)\n",
    "    return(a*b/gcd)\n",
    "start = time.time()\n",
    "lcm_fast(7614, 6145)\n",
    "end = time.time()\n",
    "print(end-start)\n",
    "# lcm_fast(761457, 614573)"
   ]
  },
  {
   "cell_type": "code",
   "execution_count": 13,
   "metadata": {},
   "outputs": [
    {
     "data": {
      "text/plain": [
       "168"
      ]
     },
     "execution_count": 13,
     "metadata": {},
     "output_type": "execute_result"
    }
   ],
   "source": [
    "def pisanoPeriod(m): \n",
    "    previous, current = 0, 1\n",
    "    for i in range(0, m * m): \n",
    "        previous, current         = current, (previous + current) % m \n",
    "#         print(previous, current)  \n",
    "        # A Pisano Period starts with 01 \n",
    "        if (previous == 0 and current == 1): \n",
    "            return i + 1\n",
    "pisanoPeriod(234)"
   ]
  },
  {
   "cell_type": "code",
   "execution_count": 17,
   "metadata": {},
   "outputs": [
    {
     "data": {
      "text/plain": [
       "151"
      ]
     },
     "execution_count": 17,
     "metadata": {},
     "output_type": "execute_result"
    }
   ],
   "source": [
    "def fb_mod_num(fib_num, mod):\n",
    "    length = pisanoPeriod(mod)\n",
    "    rem = fib_num % length\n",
    "    return(fibonacci(rem) % mod)\n",
    "fb_mod_num(2816213588, 239)    "
   ]
  },
  {
   "cell_type": "code",
   "execution_count": 19,
   "metadata": {},
   "outputs": [
    {
     "name": "stdout",
     "output_type": "stream",
     "text": [
      "2 1 1\n",
      "4 1 2\n",
      "7 2 3\n",
      "12 3 5\n",
      "20 5 8\n",
      "33 8 13\n",
      "54 13 21\n",
      "88 21 34\n",
      "143 34 55\n"
     ]
    },
    {
     "data": {
      "text/plain": [
       "3"
      ]
     },
     "execution_count": 19,
     "metadata": {},
     "output_type": "execute_result"
    }
   ],
   "source": [
    "\n",
    "def fibonacci_sum_naive(n):\n",
    "    if n <= 1:\n",
    "        return n\n",
    "\n",
    "    previous = 0\n",
    "    current  = 1\n",
    "    sum      = 1\n",
    "\n",
    "    for _ in range(n - 1):\n",
    "        previous, current = current, previous + current\n",
    "        sum += current\n",
    "        print(sum, previous, current)\n",
    "    return sum % 10\n",
    "fibonacci_sum_naive(10)"
   ]
  },
  {
   "cell_type": "code",
   "execution_count": 21,
   "metadata": {},
   "outputs": [
    {
     "data": {
      "text/plain": [
       "5"
      ]
     },
     "execution_count": 21,
     "metadata": {},
     "output_type": "execute_result"
    }
   ],
   "source": [
    "def last_sumfib(num):\n",
    "    rem = num % 60\n",
    "    last_sum = 0 \n",
    "    for i in range(rem+1):\n",
    "        last_sum += fibonacci(i)\n",
    "    return(last_sum % 10)\n",
    "last_sumfib(100)"
   ]
  },
  {
   "cell_type": "code",
   "execution_count": 31,
   "metadata": {},
   "outputs": [
    {
     "data": {
      "text/plain": [
       "2"
      ]
     },
     "execution_count": 31,
     "metadata": {},
     "output_type": "execute_result"
    }
   ],
   "source": [
    "(269 - 343455)%4"
   ]
  },
  {
   "cell_type": "code",
   "execution_count": 34,
   "metadata": {},
   "outputs": [
    {
     "data": {
      "text/plain": [
       "17"
      ]
     },
     "execution_count": 34,
     "metadata": {},
     "output_type": "execute_result"
    }
   ],
   "source": [
    "(fibonacci(3) - fibonacci(20) )% 60"
   ]
  },
  {
   "cell_type": "code",
   "execution_count": 36,
   "metadata": {},
   "outputs": [
    {
     "data": {
      "text/plain": [
       "0"
      ]
     },
     "execution_count": 36,
     "metadata": {},
     "output_type": "execute_result"
    }
   ],
   "source": [
    "def fibonacci_partial_sum_naive(from_, to):\n",
    "    sum = 0\n",
    "\n",
    "    current = 0\n",
    "    next  = 1\n",
    "\n",
    "    for i in range(to + 1):\n",
    "        if i >= from_:\n",
    "            sum += current\n",
    "\n",
    "        current, next = next, current + next\n",
    "\n",
    "    return sum % 10\n",
    "fibonacci_partial_sum_naive(10,509)"
   ]
  },
  {
   "cell_type": "code",
   "execution_count": 37,
   "metadata": {},
   "outputs": [
    {
     "data": {
      "text/plain": [
       "5"
      ]
     },
     "execution_count": 37,
     "metadata": {},
     "output_type": "execute_result"
    }
   ],
   "source": [
    "last_sumfib(499)"
   ]
  },
  {
   "cell_type": "code",
   "execution_count": null,
   "metadata": {},
   "outputs": [],
   "source": []
  }
 ],
 "metadata": {
  "kernelspec": {
   "display_name": "Python 3",
   "language": "python",
   "name": "python3"
  },
  "language_info": {
   "codemirror_mode": {
    "name": "ipython",
    "version": 3
   },
   "file_extension": ".py",
   "mimetype": "text/x-python",
   "name": "python",
   "nbconvert_exporter": "python",
   "pygments_lexer": "ipython3",
   "version": "3.6.8"
  }
 },
 "nbformat": 4,
 "nbformat_minor": 2
}
