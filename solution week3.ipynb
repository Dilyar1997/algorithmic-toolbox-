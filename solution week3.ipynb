{
 "cells": [
  {
   "cell_type": "code",
   "execution_count": 6,
   "metadata": {},
   "outputs": [],
   "source": [
    "def minrefills(x,n,l):\n",
    "    current_refill = 0\n",
    "    num_refills = 0\n",
    "    while current_refill <= n:\n",
    "        last_refill = current_refill\n",
    "        while( current_refill <= n and  \n",
    "        (x[last_refill + 1] - x[last_refill]) <= l):\n",
    "                current_refill += 1\n",
    "        if current_refill == last_refill:\n",
    "            return False \n",
    "        if current_refill <= n:\n",
    "            num_refills += 1\n",
    "    return num_refills\n"
   ]
  },
  {
   "cell_type": "code",
   "execution_count": null,
   "metadata": {},
   "outputs": [],
   "source": [
    "def min_grouped(lst):\n",
    "    R = []\n",
    "    i = 1\n",
    "    while i <= n:\n",
    "        l, r = lst[i], lst[i] + 1\n",
    "        R = list(set(R) | set([lst[i], lst[i]+1]))\n",
    "        i += 1\n",
    "        while i <= n and lst[i] <= r:\n",
    "            i += 1\n",
    "    return R\n"
   ]
  },
  {
   "cell_type": "code",
   "execution_count": 12,
   "metadata": {},
   "outputs": [
    {
     "data": {
      "text/plain": [
       "[3, 4, 5, 6]"
      ]
     },
     "execution_count": 12,
     "metadata": {},
     "output_type": "execute_result"
    }
   ],
   "source": [
    "def knapsack(W, v_w):\n",
    "    A = dict()\n",
    "    V = 0\n",
    "    if W == 0:\n",
    "        return(A,V)\n",
    "    for i in range(0,len(v_w),2):\n",
    "        a = min(v_w[i], W)\n",
    "        V += a*(v_w[i+1]/v_w[i])\n",
    "        W -= a\n",
    "        A[i] = a\n",
    "        v_w[i] -= a\n",
    "    return(A,V)\n",
    "\n",
    "                   "
   ]
  },
  {
   "cell_type": "code",
   "execution_count": 2,
   "metadata": {},
   "outputs": [
    {
     "data": {
      "text/plain": [
       "7"
      ]
     },
     "execution_count": 2,
     "metadata": {},
     "output_type": "execute_result"
    }
   ],
   "source": [
    "def min_coins(n):\n",
    "    num = 0\n",
    "    while n >= 10:\n",
    "        divid = n // 10\n",
    "        num += divid\n",
    "        n -= (divid * 10)\n",
    "    while n >= 5:\n",
    "        divid = n // 5\n",
    "        num += divid\n",
    "        n -= (divid * 5)\n",
    "    while n >= 1:\n",
    "        divid = n // 1\n",
    "        num += divid\n",
    "        n -= (divid * 1)\n",
    "    return num\n",
    "min_coins(34)"
   ]
  },
  {
   "cell_type": "code",
   "execution_count": 60,
   "metadata": {},
   "outputs": [
    {
     "name": "stdout",
     "output_type": "stream",
     "text": [
      "enter items and weight1 10\n",
      "enter items weight and value500 30\n",
      "enter items weight and valueq\n",
      "166.66666666666669\n"
     ]
    }
   ],
   "source": [
    "def knapsack(v, W, lst):\n",
    "    A = []\n",
    "    V = 0 \n",
    "    if W == 0:\n",
    "        return (A,V)\n",
    "    while W > 0:\n",
    "        for i in range(len(lst)):\n",
    "            ri, vi, wi = lst[i]\n",
    "            a = min(W, wi)\n",
    "            V += a * (vi/wi)\n",
    "            W -= a\n",
    "            wi -= a\n",
    "    return V\n",
    "        \n",
    "    \n",
    "if __name__ == '__main__':\n",
    "    knap =input('enter items and weight').split(' ')\n",
    "    num_items, weight_back = knap\n",
    "    lst = []\n",
    "    items = input('enter items weight and value').split(' ')\n",
    "    ratio = int(items[0]) // int(items[1])\n",
    "    lst.append((ratio, int(items[0]), int(items[1])))\n",
    "    while items != 'q':\n",
    "        items = input('enter items weight and value').split(' ')\n",
    "        if items == ['q']:\n",
    "            break\n",
    "        ratio = int(items[0]) // int(items[1])\n",
    "        lst.append((ratio, int(items[0]), int(items[1])))\n",
    "    lst = sorted(lst, key = lambda x: x[0], reverse = True)\n",
    "    print(knapsack(int(num_items), int(weight_back), lst))"
   ]
  },
  {
   "cell_type": "code",
   "execution_count": 1,
   "metadata": {},
   "outputs": [
    {
     "data": {
      "text/plain": [
       "[(3, 5, 6), (1, 3, 9)]"
      ]
     },
     "execution_count": 1,
     "metadata": {},
     "output_type": "execute_result"
    }
   ],
   "source": [
    "y = [(3,5,6), (1,3,9)]\n",
    "from operator import itemgetter\n",
    "sorted(y, key = itemgetter(1), reverse=True )"
   ]
  },
  {
   "cell_type": "code",
   "execution_count": 2,
   "metadata": {},
   "outputs": [
    {
     "data": {
      "text/plain": [
       "-1"
      ]
     },
     "execution_count": 2,
     "metadata": {},
     "output_type": "execute_result"
    }
   ],
   "source": [
    "def min_refills(full_tank, n, lst):\n",
    "    num_refills = 0\n",
    "    current_refill = 0\n",
    "    while (current_refill < n):\n",
    "        last_refill = current_refill \n",
    "        while (current_refill < n and lst[current_refill +1] - lst[last_refill] <= full_tank):\n",
    "            current_refill += 1\n",
    "        if current_refill == last_refill:\n",
    "            return(-1)\n",
    "        if current_refill <= n:\n",
    "            num_refills += 1\n",
    "    \n",
    "    return(num_refills)\n",
    "    \n",
    "min_refills(3, 3, [1,2,5,9])"
   ]
  },
  {
   "cell_type": "code",
   "execution_count": 3,
   "metadata": {},
   "outputs": [
    {
     "data": {
      "text/plain": [
       "[-1, 2, 4, 9]"
      ]
     },
     "execution_count": 3,
     "metadata": {},
     "output_type": "execute_result"
    }
   ],
   "source": [
    "x = [4,-1,9,2]\n",
    "sorted(x)"
   ]
  },
  {
   "cell_type": "code",
   "execution_count": 9,
   "metadata": {},
   "outputs": [
    {
     "data": {
      "text/plain": [
       "897"
      ]
     },
     "execution_count": 9,
     "metadata": {},
     "output_type": "execute_result"
    }
   ],
   "source": [
    "def max_ad(pro, avgclicks, n):\n",
    "    pro = sorted(pro)\n",
    "    avgclicks = sorted(avgclicks)\n",
    "    result = 0\n",
    "    for i in range(n):\n",
    "        result += pro[i] * avgclicks[i]\n",
    "    return result \n",
    "max_ad([39], [23], 1)\n"
   ]
  },
  {
   "cell_type": "code",
   "execution_count": 33,
   "metadata": {},
   "outputs": [
    {
     "ename": "TypeError",
     "evalue": "unsupported operand type(s) for &=: 'list' and 'list'",
     "output_type": "error",
     "traceback": [
      "\u001b[0;31m---------------------------------------------------------------------------\u001b[0m",
      "\u001b[0;31mTypeError\u001b[0m                                 Traceback (most recent call last)",
      "\u001b[0;32m<ipython-input-33-d0eb994542be>\u001b[0m in \u001b[0;36m<module>\u001b[0;34m()\u001b[0m\n\u001b[1;32m      4\u001b[0m \u001b[0;31m#     print()\u001b[0m\u001b[0;34m\u001b[0m\u001b[0;34m\u001b[0m\u001b[0;34m\u001b[0m\u001b[0m\n\u001b[1;32m      5\u001b[0m \u001b[0mx\u001b[0m \u001b[0;34m=\u001b[0m \u001b[0;34m[\u001b[0m\u001b[0mset\u001b[0m\u001b[0;34m(\u001b[0m\u001b[0;34m[\u001b[0m\u001b[0;36m1\u001b[0m\u001b[0;34m,\u001b[0m\u001b[0;36m2\u001b[0m\u001b[0;34m,\u001b[0m\u001b[0;36m3\u001b[0m\u001b[0;34m]\u001b[0m\u001b[0;34m)\u001b[0m\u001b[0;34m,\u001b[0m \u001b[0mset\u001b[0m\u001b[0;34m(\u001b[0m\u001b[0;34m[\u001b[0m\u001b[0;36m2\u001b[0m\u001b[0;34m,\u001b[0m\u001b[0;36m3\u001b[0m\u001b[0;34m,\u001b[0m\u001b[0;36m4\u001b[0m\u001b[0;34m,\u001b[0m\u001b[0;36m5\u001b[0m\u001b[0;34m]\u001b[0m\u001b[0;34m)\u001b[0m\u001b[0;34m,\u001b[0m\u001b[0mset\u001b[0m\u001b[0;34m(\u001b[0m\u001b[0;34m[\u001b[0m\u001b[0;36m3\u001b[0m\u001b[0;34m,\u001b[0m\u001b[0;36m4\u001b[0m\u001b[0;34m,\u001b[0m\u001b[0;36m5\u001b[0m\u001b[0;34m,\u001b[0m\u001b[0;36m6\u001b[0m\u001b[0;34m,\u001b[0m\u001b[0;36m7\u001b[0m\u001b[0;34m]\u001b[0m\u001b[0;34m)\u001b[0m \u001b[0;34m,\u001b[0m \u001b[0mset\u001b[0m\u001b[0;34m(\u001b[0m\u001b[0;34m[\u001b[0m\u001b[0;36m3\u001b[0m\u001b[0;34m,\u001b[0m\u001b[0;36m5\u001b[0m\u001b[0;34m,\u001b[0m\u001b[0;36m6\u001b[0m\u001b[0;34m]\u001b[0m\u001b[0;34m)\u001b[0m\u001b[0;34m]\u001b[0m\u001b[0;34m\u001b[0m\u001b[0;34m\u001b[0m\u001b[0m\n\u001b[0;32m----> 6\u001b[0;31m \u001b[0mx\u001b[0m \u001b[0;34m&=\u001b[0m \u001b[0;34m[\u001b[0m\u001b[0mset\u001b[0m\u001b[0;34m(\u001b[0m\u001b[0;34m[\u001b[0m\u001b[0;36m1\u001b[0m\u001b[0;34m,\u001b[0m\u001b[0;36m2\u001b[0m\u001b[0;34m]\u001b[0m\u001b[0;34m)\u001b[0m\u001b[0;34m]\u001b[0m\u001b[0;34m\u001b[0m\u001b[0;34m\u001b[0m\u001b[0m\n\u001b[0m",
      "\u001b[0;31mTypeError\u001b[0m: unsupported operand type(s) for &=: 'list' and 'list'"
     ]
    }
   ],
   "source": [
    "# if [set([1,2,3])&set([2,3,4,5])&set([3,4,5,6,7]) & set([3,5,6])]:\n",
    "#     print('jee')\n",
    "# else:\n",
    "#     print()\n",
    "x = [set([1,2,3]), set([2,3,4,5]),set([3,4,5,6,7]) , set([3,5,6])]\n",
    "x &= [set([1,2])]"
   ]
  },
  {
   "cell_type": "code",
   "execution_count": 9,
   "metadata": {},
   "outputs": [
    {
     "name": "stdout",
     "output_type": "stream",
     "text": [
      "Enter here1 1 4 2 5 6 9\n",
      "[1, 4, 2, 5, 6, 9]\n",
      "[1, 2, 6]\n",
      "2\n",
      "4 9\n"
     ]
    }
   ],
   "source": [
    "import sys\n",
    "from collections import namedtuple\n",
    "from operator import attrgetter\n",
    "Segment = namedtuple('Segment', 'start end')\n",
    "\n",
    "def optimal_points(segments):\n",
    "    points = []\n",
    "    #write your code here\n",
    "    i = 1\n",
    "    segments = sorted(segments , key = lambda x: x.end)\n",
    "    current_right_end = segments[0].end\n",
    "    points .append(current_right_end)\n",
    "    while i < len(segments):\n",
    "        if current_right_end < segments[i].start:\n",
    "            current_right_end = segments[i].end\n",
    "            points.append(current_right_end)\n",
    "        i += 1\n",
    "        \n",
    "    return points\n",
    "\n",
    "if __name__ == '__main__':\n",
    "    knap = input('Enter here')\n",
    "    n, *data = map(int, knap.split())\n",
    "    print(data)\n",
    "    print(data[::2])\n",
    "    segments = list(map(lambda x: Segment(x[0], x[1]), zip(data[::2], data[1::2])))\n",
    "    points = optimal_points(segments)\n",
    "    print(len(points))\n",
    "    print(*points)"
   ]
  },
  {
   "cell_type": "code",
   "execution_count": 1,
   "metadata": {},
   "outputs": [],
   "source": [
    "list(zip([3,5], [7,8]))"
   ]
  },
  {
   "cell_type": "code",
   "execution_count": 8,
   "metadata": {},
   "outputs": [
    {
     "name": "stdout",
     "output_type": "stream",
     "text": [
      "[1, 2, 5]\n"
     ]
    },
    {
     "data": {
      "text/plain": [
       "inf"
      ]
     },
     "execution_count": 8,
     "metadata": {},
     "output_type": "execute_result"
    }
   ],
   "source": [
    "import math\n",
    "def optimal_summands(n):\n",
    "    summands = []\n",
    "    #write your code here\n",
    "    if n==1:\n",
    "        return [1]\n",
    "    m = 2 * int(math.sqrt(n)) + 1\n",
    "    for i in range(1,m):\n",
    "        if n > 2*i:\n",
    "            summands.append(i)\n",
    "            n -= i\n",
    "    else:\n",
    "        summands.append(n)\n",
    "    return summands\n",
    "print(optimal_summands(8))\n",
    "\n",
    "# if __name__ == '__main__':\n",
    "#     input = i()\n",
    "#     n = int(input)\n",
    "#     summands = optimal_summands(n)\n",
    "#     print(len(summands))\n",
    "#     for x in summands:\n",
    "#         print(x, end=' ')\n",
    "float('inf')        "
   ]
  },
  {
   "cell_type": "code",
   "execution_count": 16,
   "metadata": {},
   "outputs": [
    {
     "name": "stdout",
     "output_type": "stream",
     "text": [
      "21\n",
      "2\n",
      "21\n",
      "221\n"
     ]
    }
   ],
   "source": [
    "\n",
    "def IsGreaterOrEqual(digit, max_digit):\n",
    "    '''check both the combinations digit_max_digit and max_digit_digit'''\n",
    "    return int((digit)+(max_digit))>=int((max_digit)+(digit))\n",
    "def max_salary(lst):\n",
    "    answer = ''\n",
    "    while (len(lst) != 0):\n",
    "        max_digit = 0\n",
    "        for i in lst:\n",
    "            if IsGreaterOrEqual(i, max_digit):\n",
    "                max_digit = i\n",
    "        answer += str(max_digit)\n",
    "        lst.remove(max_digit)\n",
    "    print(answer)\n",
    "max_salary([21,2])"
   ]
  },
  {
   "cell_type": "code",
   "execution_count": 13,
   "metadata": {},
   "outputs": [
    {
     "name": "stdout",
     "output_type": "stream",
     "text": [
      "3\n",
      "4\n",
      "5\n",
      "5\n"
     ]
    }
   ],
   "source": [
    "x = [3,4,5,5]\n",
    "for i in x:\n",
    "    print(i)"
   ]
  },
  {
   "cell_type": "code",
   "execution_count": null,
   "metadata": {},
   "outputs": [],
   "source": []
  }
 ],
 "metadata": {
  "kernelspec": {
   "display_name": "Python 3",
   "language": "python",
   "name": "python3"
  },
  "language_info": {
   "codemirror_mode": {
    "name": "ipython",
    "version": 3
   },
   "file_extension": ".py",
   "mimetype": "text/x-python",
   "name": "python",
   "nbconvert_exporter": "python",
   "pygments_lexer": "ipython3",
   "version": "3.6.8"
  }
 },
 "nbformat": 4,
 "nbformat_minor": 2
}
