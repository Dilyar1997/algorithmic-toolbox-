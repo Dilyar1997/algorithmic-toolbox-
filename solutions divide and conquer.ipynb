{
 "cells": [
  {
   "cell_type": "code",
   "execution_count": 32,
   "metadata": {},
   "outputs": [],
   "source": [
    "def find_max_cross_subarray(A,low, mid, high):\n",
    "    left_sum = -float('inf')\n",
    "    sum = 0 \n",
    "    left_max, right_max = low, high\n",
    "    for i in range(mid,low,-1):\n",
    "    \n",
    "        sum += A[i]\n",
    "        if sum > left_sum:\n",
    "            left_sum = sum \n",
    "            left_max = i\n",
    "    right_sum = -float('inf')\n",
    "    sum = 0\n",
    "    for j in range(mid,high):\n",
    "        sum += A[j]\n",
    "        if sum > right_sum:\n",
    "            right_sum = sum \n",
    "            right_max = j\n",
    "    return(left_max, right_max, left_sum + right_sum)\n",
    "    "
   ]
  },
  {
   "cell_type": "code",
   "execution_count": 35,
   "metadata": {},
   "outputs": [
    {
     "data": {
      "text/plain": [
       "(1, 3, 24)"
      ]
     },
     "execution_count": 35,
     "metadata": {},
     "output_type": "execute_result"
    }
   ],
   "source": [
    "def find_max_subarray(A, low, high):\n",
    "    if high == low:\n",
    "        return(low, high, A[low])\n",
    "    mid = int((low + high) / 2)\n",
    "    (low_left, high_left, left_sum) = find_max_subarray(A, low, mid)\n",
    "    (low_right, high_right, right_sum) = find_max_subarray(A, mid+1, high)\n",
    "    (low_mid, high_mid, mid_sum) = find_max_cross_subarray(A,low, mid, high)\n",
    "    if left_sum > right_sum and left_sum > mid_sum:\n",
    "        return(low_left, high_left, left_sum)\n",
    "    elif right_sum > left_sum and right_sum > mid_sum:\n",
    "        return(low_right, high_right, right_sum)\n",
    "    else:\n",
    "        return(low_mid, high_mid, mid_sum)\n",
    "    \n",
    "a = [-1,4,6,8,-13,-3,5]\n",
    "find_max_subarray(a, 0,5)"
   ]
  },
  {
   "cell_type": "code",
   "execution_count": 3,
   "metadata": {},
   "outputs": [
    {
     "data": {
      "text/plain": [
       "['dil', 'eovin', 'mrwa']"
      ]
     },
     "execution_count": 3,
     "metadata": {},
     "output_type": "execute_result"
    }
   ],
   "source": [
    "names = {'dil':5, 'mrwa':20, 'eovin':10}\n",
    "sorted(names)"
   ]
  },
  {
   "cell_type": "code",
   "execution_count": 4,
   "metadata": {},
   "outputs": [
    {
     "name": "stdout",
     "output_type": "stream",
     "text": [
      "5\n",
      "10\n",
      "20\n"
     ]
    }
   ],
   "source": [
    "for i in sorted(names):\n",
    "    print(names[i])"
   ]
  },
  {
   "cell_type": "markdown",
   "metadata": {},
   "source": [
    "# binary search"
   ]
  },
  {
   "cell_type": "code",
   "execution_count": 8,
   "metadata": {},
   "outputs": [
    {
     "name": "stdout",
     "output_type": "stream",
     "text": [
      "Enter numbers5 1 5 8 12 13 5 8 1 23 1 11\n",
      "2 0 -1 0 -1 "
     ]
    }
   ],
   "source": [
    "def binary_search(a, x):\n",
    "    left, right = 0, len(a)\n",
    "    # write your code here\n",
    "    while left < right:\n",
    "        m = int((left + right) / 2)\n",
    "        if a[m] == x:\n",
    "            return m \n",
    "        elif a[m] < x:\n",
    "            left = m + 1\n",
    "        else:\n",
    "            right = m -1 \n",
    "    return -1\n",
    "def linear_search(a, x):\n",
    "    for i in range(len(a)):\n",
    "        if a[i] == x:\n",
    "            return i\n",
    "    return -1\n",
    "\n",
    "if __name__ == '__main__':\n",
    "    input1 = input('Enter numbers')\n",
    "    data = list(map(int, input1.split()))\n",
    "    n = data[0]\n",
    "    m = data[n + 1]\n",
    "    a = data[1 : n + 1]\n",
    "    for x in data[n + 2:]:\n",
    "#         replace with the call to binary_search when implemented\n",
    "        print(binary_search(a,x), end = ' ')\n",
    "#         print(linear_search(a, x), end = ' ')\n"
   ]
  },
  {
   "cell_type": "code",
   "execution_count": 19,
   "metadata": {},
   "outputs": [
    {
     "name": "stdout",
     "output_type": "stream",
     "text": [
      "enter numbers5 2 3 9 2 2\n",
      "2\n",
      "3\n",
      "-1\n",
      "9\n",
      "-1\n",
      "2\n",
      "2\n",
      "2\n",
      "1\n"
     ]
    }
   ],
   "source": [
    "import sys\n",
    "def get_majority_element(a, left, right):\n",
    "    if left == right:\n",
    "        return -1\n",
    "    if left + 1 == right:\n",
    "        return a[left]\n",
    "    #write your code here\n",
    "    mid = (left + right + 1) // 2\n",
    "    left_elem = get_majority_element(a, left, mid)\n",
    "    print(left_elem)\n",
    "    right_elem = get_majority_element(a, mid, right)\n",
    "    print(right_elem)\n",
    "    l_count = 0\n",
    "    for i in range(left, right):\n",
    "        if a[i] == left_elem:\n",
    "            l_count += 1\n",
    "    if l_count > (right - left) // 2:\n",
    "        return left_elem\n",
    "    r_count = 0\n",
    "    for j in range(left, right):\n",
    "        if a[j] == right_elem:\n",
    "            r_count += 1\n",
    "    if r_count > (right - left) // 2:\n",
    "        return right_elem\n",
    "    return -1\n",
    "\n",
    "if __name__ == '__main__':\n",
    "    input1 = input('enter numbers')\n",
    "    n, *a = list(map(int, input1.split()))\n",
    "    if get_majority_element(a, 0, n) != -1:\n",
    "        print(1)\n",
    "    else:\n",
    "        print(0)"
   ]
  },
  {
   "cell_type": "code",
   "execution_count": 26,
   "metadata": {},
   "outputs": [
    {
     "name": "stdout",
     "output_type": "stream",
     "text": [
      "Enter numbers5 2 3 9 2 2\n",
      "2 2 2 3 9 "
     ]
    }
   ],
   "source": [
    "import random\n",
    "\n",
    "def partition3(a, l, r):\n",
    "    #write your code here\n",
    "    x = a[l]\n",
    "    j = l\n",
    "    for i in range(l + 1, r + 1):\n",
    "        if a[i] <= x:\n",
    "            j += 1\n",
    "            a[i], a[j] = a[j], a[i]\n",
    "    a[l], a[j] = a[j], a[l]\n",
    "    count = 0\n",
    "    for h in range(l, j):\n",
    "        if a[h] == x:\n",
    "            count += 1\n",
    "    m2 = j - count        \n",
    "    return j, m2\n",
    "\n",
    "def partition2(a, l, r):\n",
    "    x = a[l]\n",
    "    j = l\n",
    "    for i in range(l + 1, r + 1):\n",
    "        if a[i] <= x:\n",
    "            j += 1\n",
    "            a[i], a[j] = a[j], a[i]\n",
    "    a[l], a[j] = a[j], a[l]\n",
    "    return j\n",
    "\n",
    "\n",
    "def randomized_quick_sort(a, l, r):\n",
    "    if l >= r:\n",
    "        return\n",
    "    k = random.randint(l, r)\n",
    "    a[l], a[k] = a[k], a[l]\n",
    "    #use partition3\n",
    "    m1, m2 = partition3(a, l, r)\n",
    "#     m = partition2(a, l, r)\n",
    "    randomized_quick_sort(a, l, m1 - 1);\n",
    "    randomized_quick_sort(a, m2 + 1, r);\n",
    "\n",
    "\n",
    "if __name__ == '__main__':\n",
    "    input1 = input('Enter numbers')\n",
    "    n, *a = list(map(int, input1.split()))\n",
    "    randomized_quick_sort(a, 0, n - 1)\n",
    "    for x in a:\n",
    "        print(x, end=' ')\n"
   ]
  },
  {
   "cell_type": "code",
   "execution_count": 36,
   "metadata": {},
   "outputs": [
    {
     "name": "stdout",
     "output_type": "stream",
     "text": [
      "Enter numbers5 2 3 9 2 9\n"
     ]
    },
    {
     "ename": "TypeError",
     "evalue": "'NoneType' object is not subscriptable",
     "output_type": "error",
     "traceback": [
      "\u001b[0;31m---------------------------------------------------------------------------\u001b[0m",
      "\u001b[0;31mTypeError\u001b[0m                                 Traceback (most recent call last)",
      "\u001b[0;32m<ipython-input-36-f440d93f477f>\u001b[0m in \u001b[0;36m<module>\u001b[0;34m()\u001b[0m\n\u001b[1;32m     34\u001b[0m     \u001b[0mn\u001b[0m\u001b[0;34m,\u001b[0m \u001b[0;34m*\u001b[0m\u001b[0ma\u001b[0m \u001b[0;34m=\u001b[0m \u001b[0mlist\u001b[0m\u001b[0;34m(\u001b[0m\u001b[0mmap\u001b[0m\u001b[0;34m(\u001b[0m\u001b[0mint\u001b[0m\u001b[0;34m,\u001b[0m \u001b[0minput1\u001b[0m\u001b[0;34m.\u001b[0m\u001b[0msplit\u001b[0m\u001b[0;34m(\u001b[0m\u001b[0;34m)\u001b[0m\u001b[0;34m)\u001b[0m\u001b[0;34m)\u001b[0m\u001b[0;34m\u001b[0m\u001b[0;34m\u001b[0m\u001b[0m\n\u001b[1;32m     35\u001b[0m     \u001b[0mb\u001b[0m \u001b[0;34m=\u001b[0m \u001b[0mn\u001b[0m \u001b[0;34m*\u001b[0m \u001b[0;34m[\u001b[0m\u001b[0;36m0\u001b[0m\u001b[0;34m]\u001b[0m\u001b[0;34m\u001b[0m\u001b[0;34m\u001b[0m\u001b[0m\n\u001b[0;32m---> 36\u001b[0;31m     \u001b[0mprint\u001b[0m\u001b[0;34m(\u001b[0m\u001b[0mget_inversions\u001b[0m\u001b[0;34m(\u001b[0m\u001b[0ma\u001b[0m\u001b[0;34m)\u001b[0m\u001b[0;34m)\u001b[0m\u001b[0;34m\u001b[0m\u001b[0;34m\u001b[0m\u001b[0m\n\u001b[0m",
      "\u001b[0;32m<ipython-input-36-f440d93f477f>\u001b[0m in \u001b[0;36mget_inversions\u001b[0;34m(a)\u001b[0m\n\u001b[1;32m     14\u001b[0m     \u001b[0mmid\u001b[0m \u001b[0;34m=\u001b[0m \u001b[0mlen\u001b[0m\u001b[0;34m(\u001b[0m\u001b[0ma\u001b[0m\u001b[0;34m)\u001b[0m \u001b[0;34m//\u001b[0m \u001b[0;36m2\u001b[0m\u001b[0;34m\u001b[0m\u001b[0;34m\u001b[0m\u001b[0m\n\u001b[1;32m     15\u001b[0m     \u001b[0mB\u001b[0m \u001b[0;34m=\u001b[0m \u001b[0mget_inversions\u001b[0m\u001b[0;34m(\u001b[0m\u001b[0ma\u001b[0m\u001b[0;34m[\u001b[0m\u001b[0;36m0\u001b[0m\u001b[0;34m:\u001b[0m\u001b[0mmid\u001b[0m\u001b[0;34m]\u001b[0m\u001b[0;34m)\u001b[0m\u001b[0;34m\u001b[0m\u001b[0;34m\u001b[0m\u001b[0m\n\u001b[0;32m---> 16\u001b[0;31m     \u001b[0mC\u001b[0m \u001b[0;34m=\u001b[0m \u001b[0mget_inversions\u001b[0m\u001b[0;34m(\u001b[0m\u001b[0ma\u001b[0m\u001b[0;34m[\u001b[0m\u001b[0mmid\u001b[0m\u001b[0;34m:\u001b[0m\u001b[0;34m]\u001b[0m\u001b[0;34m)\u001b[0m\u001b[0;34m\u001b[0m\u001b[0;34m\u001b[0m\u001b[0m\n\u001b[0m\u001b[1;32m     17\u001b[0m     \u001b[0;32mreturn\u001b[0m \u001b[0mmerge\u001b[0m\u001b[0;34m(\u001b[0m\u001b[0mB\u001b[0m\u001b[0;34m,\u001b[0m\u001b[0mC\u001b[0m\u001b[0;34m)\u001b[0m\u001b[0;34m\u001b[0m\u001b[0;34m\u001b[0m\u001b[0m\n\u001b[1;32m     18\u001b[0m \u001b[0;34m\u001b[0m\u001b[0m\n",
      "\u001b[0;32m<ipython-input-36-f440d93f477f>\u001b[0m in \u001b[0;36mget_inversions\u001b[0;34m(a)\u001b[0m\n\u001b[1;32m     15\u001b[0m     \u001b[0mB\u001b[0m \u001b[0;34m=\u001b[0m \u001b[0mget_inversions\u001b[0m\u001b[0;34m(\u001b[0m\u001b[0ma\u001b[0m\u001b[0;34m[\u001b[0m\u001b[0;36m0\u001b[0m\u001b[0;34m:\u001b[0m\u001b[0mmid\u001b[0m\u001b[0;34m]\u001b[0m\u001b[0;34m)\u001b[0m\u001b[0;34m\u001b[0m\u001b[0;34m\u001b[0m\u001b[0m\n\u001b[1;32m     16\u001b[0m     \u001b[0mC\u001b[0m \u001b[0;34m=\u001b[0m \u001b[0mget_inversions\u001b[0m\u001b[0;34m(\u001b[0m\u001b[0ma\u001b[0m\u001b[0;34m[\u001b[0m\u001b[0mmid\u001b[0m\u001b[0;34m:\u001b[0m\u001b[0;34m]\u001b[0m\u001b[0;34m)\u001b[0m\u001b[0;34m\u001b[0m\u001b[0;34m\u001b[0m\u001b[0m\n\u001b[0;32m---> 17\u001b[0;31m     \u001b[0;32mreturn\u001b[0m \u001b[0mmerge\u001b[0m\u001b[0;34m(\u001b[0m\u001b[0mB\u001b[0m\u001b[0;34m,\u001b[0m\u001b[0mC\u001b[0m\u001b[0;34m)\u001b[0m\u001b[0;34m\u001b[0m\u001b[0;34m\u001b[0m\u001b[0m\n\u001b[0m\u001b[1;32m     18\u001b[0m \u001b[0;34m\u001b[0m\u001b[0m\n\u001b[1;32m     19\u001b[0m \u001b[0;32mdef\u001b[0m \u001b[0mmerge\u001b[0m\u001b[0;34m(\u001b[0m\u001b[0mleft\u001b[0m\u001b[0;34m,\u001b[0m \u001b[0mright\u001b[0m\u001b[0;34m)\u001b[0m\u001b[0;34m:\u001b[0m\u001b[0;34m\u001b[0m\u001b[0;34m\u001b[0m\u001b[0m\n",
      "\u001b[0;32m<ipython-input-36-f440d93f477f>\u001b[0m in \u001b[0;36mmerge\u001b[0;34m(left, right)\u001b[0m\n\u001b[1;32m     18\u001b[0m \u001b[0;34m\u001b[0m\u001b[0m\n\u001b[1;32m     19\u001b[0m \u001b[0;32mdef\u001b[0m \u001b[0mmerge\u001b[0m\u001b[0;34m(\u001b[0m\u001b[0mleft\u001b[0m\u001b[0;34m,\u001b[0m \u001b[0mright\u001b[0m\u001b[0;34m)\u001b[0m\u001b[0;34m:\u001b[0m\u001b[0;34m\u001b[0m\u001b[0;34m\u001b[0m\u001b[0m\n\u001b[0;32m---> 20\u001b[0;31m     \u001b[0minversions_num\u001b[0m \u001b[0;34m=\u001b[0m \u001b[0mleft\u001b[0m\u001b[0;34m[\u001b[0m\u001b[0;36m0\u001b[0m\u001b[0;34m]\u001b[0m \u001b[0;34m+\u001b[0m \u001b[0mright\u001b[0m\u001b[0;34m[\u001b[0m\u001b[0;36m0\u001b[0m\u001b[0;34m]\u001b[0m\u001b[0;34m\u001b[0m\u001b[0;34m\u001b[0m\u001b[0m\n\u001b[0m\u001b[1;32m     21\u001b[0m     \u001b[0mleft_array\u001b[0m \u001b[0;34m=\u001b[0m \u001b[0mleft\u001b[0m\u001b[0;34m[\u001b[0m\u001b[0;36m1\u001b[0m\u001b[0;34m]\u001b[0m\u001b[0;34m\u001b[0m\u001b[0;34m\u001b[0m\u001b[0m\n\u001b[1;32m     22\u001b[0m     \u001b[0mright_array\u001b[0m \u001b[0;34m=\u001b[0m \u001b[0mright\u001b[0m\u001b[0;34m[\u001b[0m\u001b[0;36m1\u001b[0m\u001b[0;34m]\u001b[0m\u001b[0;34m\u001b[0m\u001b[0;34m\u001b[0m\u001b[0m\n",
      "\u001b[0;31mTypeError\u001b[0m: 'NoneType' object is not subscriptable"
     ]
    }
   ],
   "source": [
    "def get_number_of_inversions(a, b, left, right):\n",
    "    number_of_inversions = 0\n",
    "    if right - left <= 1:\n",
    "        return number_of_inversions\n",
    "    ave = (left + right) // 2\n",
    "    number_of_inversions += get_number_of_inversions(a, b, left, ave)\n",
    "    number_of_inversions += get_number_of_inversions(a, b, ave, right)\n",
    "    #write your code here\n",
    "    \n",
    "    return number_of_inversions\n",
    "def get_inversions(a):\n",
    "    if len(a) == 1:\n",
    "        return [0,a]\n",
    "    mid = len(a) // 2\n",
    "    B = get_inversions(a[0:mid])\n",
    "    C = get_inversions(a[mid:])\n",
    "    return merge(B,C)\n",
    "    \n",
    "def merge(left, right):\n",
    "    inversions_num = left[0] + right[0]\n",
    "    left_array = left[1]\n",
    "    right_array = right[1]\n",
    "    result = []\n",
    "    while len(left_array) > 0 and len(right_array) > 0:\n",
    "        if left_array[0] > right_array[0]:\n",
    "            result.append(left_array[0])\n",
    "            inversions_num += len(right_array)\n",
    "            del(left_array[0])\n",
    "        else:\n",
    "            result.append(right_array[0])\n",
    "            del(right_array[0])\n",
    "if __name__ == '__main__':\n",
    "    input1 = input('Enter numbers')\n",
    "    n, *a = list(map(int, input1.split()))\n",
    "    b = n * [0]\n",
    "    print(get_inversions(a))"
   ]
  },
  {
   "cell_type": "code",
   "execution_count": null,
   "metadata": {},
   "outputs": [],
   "source": []
  }
 ],
 "metadata": {
  "kernelspec": {
   "display_name": "Python 3",
   "language": "python",
   "name": "python3"
  },
  "language_info": {
   "codemirror_mode": {
    "name": "ipython",
    "version": 3
   },
   "file_extension": ".py",
   "mimetype": "text/x-python",
   "name": "python",
   "nbconvert_exporter": "python",
   "pygments_lexer": "ipython3",
   "version": "3.6.8"
  }
 },
 "nbformat": 4,
 "nbformat_minor": 2
}
